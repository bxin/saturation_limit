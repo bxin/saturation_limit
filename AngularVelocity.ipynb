{
 "cells": [
  {
   "cell_type": "markdown",
   "metadata": {},
   "source": [
    "In this notebook -\n",
    "https://github.com/bxin/scratchBook/blob/master/saturation_limit/satLim_exploreHeight.ipynb\n",
    "I've calculated an LEOsat's apparent angular velocity as a function of height and zenith angle.\n",
    "\n",
    "But -\n",
    "The calculations I did to reproduce the angular velocity vs zenith angle plot - I assumed the satellite orbit goes through zenith.\n",
    "If you think of a plane which the satellite resides in, which is perpendicular to the line of sight, to calculate the apparent angular velocity, we need to project the orbital velocity to that plane, then divide by the distance.\n",
    "This is where the direction of the velocity vector matters. \n",
    "If it is coming toward zenith (coming toward us for example ), we multiply the velocity by cos(zenith angle) to get the projection to that plane (roughly speaking, in the limit of earth radius >> satellite height).\n",
    "But if it is going perpendicular to the line of sight, the velocity vector is in that plane already, the projection to that plane is the velocity vector itself."
   ]
  },
  {
   "cell_type": "code",
   "execution_count": 1,
   "metadata": {},
   "outputs": [],
   "source": [
    "import numpy as np\n",
    "import pandas as pd"
   ]
  },
  {
   "cell_type": "code",
   "execution_count": 2,
   "metadata": {},
   "outputs": [],
   "source": [
    "G = 6.673e-11  #gravitational constant\n",
    "Me = 5.97e24  #mass of earth in kg\n",
    "Re = 6371e3  #radius of earth in m\n",
    "heightKm = 550 #height in Km"
   ]
  },
  {
   "cell_type": "markdown",
   "metadata": {},
   "source": [
    "If we know the Ra and Dec of two points on the trail, and also the Ra and Dec of zenith at the time of the observation, then we should be able calculate the proper projection.\n",
    "\n",
    "However, it would be easier to do it another way. \n",
    "Meredith gave me Az/Alt for 2 points on each trail for the 2 visits with lowest and highest airmass.\n",
    "\n",
    "<img src=\"./plots/cs1.png\" alt=\"cs1\" width=\"300\"/>\n",
    "\n",
    "P is the person (observer). The origin of the coordinate system is where the satellite is. \n",
    "Give the orbital velocity of a fixed magnitude, all the possible end point of the velocity vector forms a circle in a plane parallel to the ground right below it (not perfectly parallel with the group at P, but it is OK). The green line is the projection of that circle onto the x-z plane."
   ]
  },
  {
   "cell_type": "code",
   "execution_count": 3,
   "metadata": {},
   "outputs": [],
   "source": [
    "def calcAngularV(heightKm, zenithADeg, az1=0, alt1=0, az2=0, alt2=0):\n",
    "    '''\n",
    "    inputs: \n",
    "        heightM: satellite height in kilometers\n",
    "        zenithADeg: zenith angle in degree\n",
    "        alt1,az1, alt2, az2 are the alt/az of two points on the same trail\n",
    "        when alt1, az1, alt2, az2 are not given, the orbit goes through zenith.\n",
    "        when one of (alt1,az1, alt2, az2) is not zero, alt1,az1, alt2, az2 will be used for calculation.\n",
    "    output:\n",
    "        angular velocity as seen from earth, in deg per minute\n",
    "    '''\n",
    "    h=heightKm*1000 #height in meter\n",
    "    za = np.radians(zenithADeg)\n",
    "    omega = np.sqrt(G*Me/(Re+h)**3) #angular velocity as seen from center of earth\n",
    "    orbitV = omega*(Re+h) #orbit velocity\n",
    "    #the above is true irregardless of the observer\n",
    "    \n",
    "    #the below was derived when orbit goes through zenith; when it doesn't, calculations\n",
    "    # of x and d are still valid. The velocity vector will be out of the plane formed by \n",
    "    # the satellite, observor, and center of the earth. But it is OK.\n",
    "    x = np.arcsin(Re*np.sin(za)/(Re+h)) ## angle between line of sight and (Re+h)\n",
    "    if np.isclose(x,0):\n",
    "        d = h\n",
    "    else:\n",
    "        d = np.sin(za-x)*Re/np.sin(x) #distance between satellite and observer on earth\n",
    "        \n",
    "    #depending on the input parameters given:\n",
    "    if (alt1 ==0 and alt2 ==0 and az1 ==0. and az2 == 0):\n",
    "        tanV = orbitV*np.cos(x) #project orbitV to perpendicular to line of sight\n",
    "        angleHorizon = 90\n",
    "    else:\n",
    "        tanTheta = (az2-az1)/(alt2-alt1)\n",
    "        print('----tan(%.2f deg) = %.2f, min = %.2f, max=%.2f'%(\n",
    "            np.degrees(np.arctan(tanTheta)), tanTheta,\n",
    "             orbitV*np.cos(x)/d/np.pi*180*60, orbitV/d/np.pi*180*60))\n",
    "        xSquare = 1./(1+np.tan(x)**2 + tanTheta**2)\n",
    "        zSquare = xSquare*np.tan(x)**2\n",
    "        tanV = orbitV*np.sqrt(1-zSquare)\n",
    "        angleHorizon = 90 - abs(np.degrees(np.arctan(tanTheta)))\n",
    "    angularV = tanV/d  #angular velocity as seen from earth\n",
    "    angularV = angularV/np.pi*180*60  #convert from radian/sec into deg/min\n",
    "    \n",
    "    return angularV, angleHorizon"
   ]
  },
  {
   "cell_type": "code",
   "execution_count": 4,
   "metadata": {},
   "outputs": [],
   "source": [
    "def getResults(az1, alt1, az2, alt2, X):\n",
    "    results = dict()\n",
    "    results['az1'] = az1\n",
    "    results['alt1'] = alt1\n",
    "    results['az2'] = az2\n",
    "    results['alt2'] = alt2\n",
    "    results['airmass'] = X\n",
    "    zADeg = np.degrees(np.arccos(1/X))\n",
    "    results['zenith angle (deg)'] = zADeg\n",
    "    av, ah = calcAngularV(heightKm,zADeg, az1, alt1, az2, alt2)\n",
    "    results['angle between trail and horizon (deg)'] = ah\n",
    "    results['apparent angular velocity (deg/min)'] = av\n",
    "    av0, ah0 = calcAngularV(heightKm,zADeg)\n",
    "    results['if ignore velocity orientation'] = av0\n",
    "    results['change (%)'] = (av-av0)/av0*100\n",
    "    \n",
    "    for key, value in results.items():\n",
    "        results[key] = np.round(value, 2)\n",
    "    return results"
   ]
  },
  {
   "cell_type": "code",
   "execution_count": 5,
   "metadata": {},
   "outputs": [
    {
     "name": "stdout",
     "output_type": "stream",
     "text": [
      "----tan(-89.08 deg) = -62.37, min = 45.01, max=46.15\n",
      "----tan(89.51 deg) = 117.05, min = 37.19, max=41.76\n",
      "----tan(89.70 deg) = 188.48, min = 22.90, max=32.22\n",
      "----tan(-89.92 deg) = -744.71, min = 22.90, max=32.22\n",
      "----tan(86.83 deg) = 18.07, min = 19.77, max=29.72\n"
     ]
    }
   ],
   "source": [
    "#additional info about the measurements from\n",
    "# https://github.com/dirac-institute/starlink/blob/master/Starlink-Take1.ipynb\n",
    "\n",
    "airmass = np.array([1.03, 1.15, 1.55, 1.55, 1.71])\n",
    "#_1102\n",
    "az1, alt1 = 315.42590939, 76.78503409\n",
    "az2, alt2 = 314.55083988, 76.79906491\n",
    "r1102 = getResults(az1, alt1, az2, alt2, airmass[0])\n",
    "#_1073\n",
    "az1, alt1 = 308.75906338, 59.44928046\n",
    "az2, alt2 = 308.34745752, 59.44576393 \n",
    "r1073 = getResults(az1, alt1, az2, alt2, airmass[1])\n",
    "#_1130\n",
    "az1, alt1 = 307.35108473, 39.70540244\n",
    "az2, alt2 = 307.08128749, 39.70397097\n",
    "r1130 = getResults(az1, alt1, az2, alt2, airmass[2])\n",
    "#_1112\n",
    "az1, alt1 = 308.18198551, 40.31105008\n",
    "az2, alt2 = 307.91457617, 40.31140916\n",
    "r1112 = getResults(az1, alt1, az2, alt2, airmass[3])\n",
    "#_1084\n",
    "az1, alt1 = 298.08830172, 71.61069403\n",
    "az2, alt2 = 297.47051653, 71.57651103\n",
    "r1084 = getResults(az1, alt1, az2, alt2, airmass[4])\n",
    "frame = {'Sat 1102': r1102, 'Sat 1073': r1073, 'Sat 1130': r1130, 'Sat 1112': r1112, 'Sat 1084': r1084}\n",
    "DF = pd.DataFrame(frame)"
   ]
  },
  {
   "cell_type": "code",
   "execution_count": 6,
   "metadata": {},
   "outputs": [
    {
     "data": {
      "text/html": [
       "<div>\n",
       "<style scoped>\n",
       "    .dataframe tbody tr th:only-of-type {\n",
       "        vertical-align: middle;\n",
       "    }\n",
       "\n",
       "    .dataframe tbody tr th {\n",
       "        vertical-align: top;\n",
       "    }\n",
       "\n",
       "    .dataframe thead th {\n",
       "        text-align: right;\n",
       "    }\n",
       "</style>\n",
       "<table border=\"1\" class=\"dataframe\">\n",
       "  <thead>\n",
       "    <tr style=\"text-align: right;\">\n",
       "      <th></th>\n",
       "      <th>Sat 1102</th>\n",
       "      <th>Sat 1073</th>\n",
       "      <th>Sat 1130</th>\n",
       "      <th>Sat 1112</th>\n",
       "      <th>Sat 1084</th>\n",
       "    </tr>\n",
       "  </thead>\n",
       "  <tbody>\n",
       "    <tr>\n",
       "      <th>az1</th>\n",
       "      <td>315.43</td>\n",
       "      <td>308.76</td>\n",
       "      <td>307.35</td>\n",
       "      <td>308.18</td>\n",
       "      <td>298.09</td>\n",
       "    </tr>\n",
       "    <tr>\n",
       "      <th>alt1</th>\n",
       "      <td>76.79</td>\n",
       "      <td>59.45</td>\n",
       "      <td>39.71</td>\n",
       "      <td>40.31</td>\n",
       "      <td>71.61</td>\n",
       "    </tr>\n",
       "    <tr>\n",
       "      <th>az2</th>\n",
       "      <td>314.55</td>\n",
       "      <td>308.35</td>\n",
       "      <td>307.08</td>\n",
       "      <td>307.91</td>\n",
       "      <td>297.47</td>\n",
       "    </tr>\n",
       "    <tr>\n",
       "      <th>alt2</th>\n",
       "      <td>76.80</td>\n",
       "      <td>59.45</td>\n",
       "      <td>39.70</td>\n",
       "      <td>40.31</td>\n",
       "      <td>71.58</td>\n",
       "    </tr>\n",
       "    <tr>\n",
       "      <th>airmass</th>\n",
       "      <td>1.03</td>\n",
       "      <td>1.15</td>\n",
       "      <td>1.55</td>\n",
       "      <td>1.55</td>\n",
       "      <td>1.71</td>\n",
       "    </tr>\n",
       "    <tr>\n",
       "      <th>zenith angle (deg)</th>\n",
       "      <td>13.86</td>\n",
       "      <td>29.59</td>\n",
       "      <td>49.82</td>\n",
       "      <td>49.82</td>\n",
       "      <td>54.21</td>\n",
       "    </tr>\n",
       "    <tr>\n",
       "      <th>angle between trail and horizon (deg)</th>\n",
       "      <td>0.92</td>\n",
       "      <td>0.49</td>\n",
       "      <td>0.30</td>\n",
       "      <td>0.08</td>\n",
       "      <td>3.17</td>\n",
       "    </tr>\n",
       "    <tr>\n",
       "      <th>apparent angular velocity (deg/min)</th>\n",
       "      <td>46.15</td>\n",
       "      <td>41.76</td>\n",
       "      <td>32.22</td>\n",
       "      <td>32.22</td>\n",
       "      <td>29.66</td>\n",
       "    </tr>\n",
       "    <tr>\n",
       "      <th>if ignore velocity orientation</th>\n",
       "      <td>45.01</td>\n",
       "      <td>37.19</td>\n",
       "      <td>22.90</td>\n",
       "      <td>22.90</td>\n",
       "      <td>19.77</td>\n",
       "    </tr>\n",
       "    <tr>\n",
       "      <th>change (%)</th>\n",
       "      <td>2.52</td>\n",
       "      <td>12.27</td>\n",
       "      <td>40.67</td>\n",
       "      <td>40.67</td>\n",
       "      <td>50.06</td>\n",
       "    </tr>\n",
       "  </tbody>\n",
       "</table>\n",
       "</div>"
      ],
      "text/plain": [
       "                                       Sat 1102  Sat 1073  Sat 1130  Sat 1112  \\\n",
       "az1                                      315.43    308.76    307.35    308.18   \n",
       "alt1                                      76.79     59.45     39.71     40.31   \n",
       "az2                                      314.55    308.35    307.08    307.91   \n",
       "alt2                                      76.80     59.45     39.70     40.31   \n",
       "airmass                                    1.03      1.15      1.55      1.55   \n",
       "zenith angle (deg)                        13.86     29.59     49.82     49.82   \n",
       "angle between trail and horizon (deg)      0.92      0.49      0.30      0.08   \n",
       "apparent angular velocity (deg/min)       46.15     41.76     32.22     32.22   \n",
       "if ignore velocity orientation            45.01     37.19     22.90     22.90   \n",
       "change (%)                                 2.52     12.27     40.67     40.67   \n",
       "\n",
       "                                       Sat 1084  \n",
       "az1                                      298.09  \n",
       "alt1                                      71.61  \n",
       "az2                                      297.47  \n",
       "alt2                                      71.58  \n",
       "airmass                                    1.71  \n",
       "zenith angle (deg)                        54.21  \n",
       "angle between trail and horizon (deg)      3.17  \n",
       "apparent angular velocity (deg/min)       29.66  \n",
       "if ignore velocity orientation            19.77  \n",
       "change (%)                                50.06  "
      ]
     },
     "execution_count": 6,
     "metadata": {},
     "output_type": "execute_result"
    }
   ],
   "source": [
    "DF"
   ]
  },
  {
   "cell_type": "markdown",
   "metadata": {},
   "source": [
    "We want to make a plot like before, but with the orbit not going through zenith. Because for the same satellite the apparent angle on the sky keeps changing, we cannot use the alt1, az1, alt2, az2 as input variables. \n",
    "\n",
    "Instead of picturing all these planes and lines in 3D, which makes my head hurt -\n",
    "#### We are going to take a numerical approach. \n",
    "Computationally the numerical approach is slower, but it is less error-prone, and saves human time."
   ]
  },
  {
   "cell_type": "code",
   "execution_count": 7,
   "metadata": {},
   "outputs": [],
   "source": [
    "from sympy import Point3D, Line3D, Plane\n",
    "import matplotlib.pyplot as plt"
   ]
  },
  {
   "cell_type": "code",
   "execution_count": 8,
   "metadata": {},
   "outputs": [],
   "source": [
    "def numAngularV(heightKm, alphaDeg, thetaDeg):\n",
    "    '''\n",
    "    input parameters:\n",
    "        alphaDeg: angle between (earth center-observatory)^(orbital plane), in degree\n",
    "        thetaDeg: azimuth angle of satellite inside the orbital plane. Max zenith angle gives thetaDeg = 0\n",
    "        heightKm: satellite height in Km\n",
    "    output:\n",
    "        angularV: apparent angular velocity in deg/min\n",
    "        zAnlgeDeg: zenith angle in degree\n",
    "    '''\n",
    "    \n",
    "    #origin = earth center\n",
    "    #+z = points up\n",
    "    #+y = points out of paper\n",
    "    #+x = points left\n",
    "    # orbital plane is in z-y plane\n",
    "    # observatory has positive x and positive z\n",
    "\n",
    "    h = heightKm*1000\n",
    "    if np.isclose(thetaDeg, 360):\n",
    "        thetaDeg = 0\n",
    "    alpha = np.radians(alphaDeg) #angle between (earth center-observatory)^(orbital plane)\n",
    "    theta = np.radians(thetaDeg) #azimuth angle inside the orbital plane\n",
    "    pt_obs = Point3D(Re*np.sin(alpha),0, Re*np.cos(alpha)) #point, observatory\n",
    "    pl_orb = Plane((0,0,0), (0,0,1), (0,1,0)) #plane, orbit\n",
    "    pt_sat = Point3D(0, (Re+h)*np.sin(theta), (Re+h)*np.cos(theta)) #point, satellite\n",
    "    #print(pt_obs, pt_sat)\n",
    "    \n",
    "    pl_proj = Plane(pt_sat, normal_vector = (pt_sat - pt_obs)) #plane, plane for projecting velocity vector to\n",
    "    omega = np.sqrt(G*Me/(Re+h)**3) #angular velocity as seen from center of earth\n",
    "    orbitV = omega*(Re+h) #orbit velocity\n",
    "    pt_v = Point3D(0, pt_sat.y + orbitV*np.cos(theta), pt_sat.z  - orbitV*np.sin(theta)) #point, tip of velocity vector\n",
    "\n",
    "    #print(pl_proj, pt_v)\n",
    "    #print(pl_proj.projection(pt_v))\n",
    "    tanV = pt_sat.distance(pl_proj.projection(pt_v)).evalf() #project orbit velocity onto pl_proj\n",
    "    d = pt_obs.distance(pt_sat).evalf() #distance between obserer and satellite\n",
    "    #print(thetaDeg, orbitV, tanV, d)\n",
    "    \n",
    "    angularV = tanV/d  #angular velocity as seen from earth\n",
    "    angularV = angularV/np.pi*180*60  #convert from radian/sec into deg/min\n",
    "    \n",
    "    ln_los = Line3D(pt_obs, pt_sat) #line, line of sight\n",
    "    pl_obs = Plane(pt_obs, normal_vector = pt_obs) #plane, representing observatory floor\n",
    "    ln_orb = Line3D((0,0,0), pt_sat) #line, for satellite,inside orbit plane\n",
    "    zAngleDeg = 90 - np.degrees(np.float(pl_obs.angle_between(ln_los).evalf()))\n",
    "\n",
    "    return angularV, zAngleDeg"
   ]
  },
  {
   "cell_type": "code",
   "execution_count": 9,
   "metadata": {
    "scrolled": false
   },
   "outputs": [
    {
     "name": "stdout",
     "output_type": "stream",
     "text": [
      "0\n",
      "1\n",
      "2\n",
      "3\n",
      "4\n",
      "5\n"
     ]
    },
    {
     "data": {
      "image/png": "[encoded data removed]",
      "text/plain": [
       "<Figure size 720x432 with 1 Axes>"
      ]
     },
     "metadata": {
      "needs_background": "light"
     },
     "output_type": "display_data"
    }
   ],
   "source": [
    "# this takes ~1 minute for each curve (each height value) on my MBP\n",
    "npt = 361 #7 #361 #361\n",
    "av = np.zeros((6,npt))\n",
    "zas = np.zeros((6,npt))\n",
    "thetas = np.linspace(0,360,npt)\n",
    "hs = [i*1000 for i in [300,500,1000,1200,1400,2000]]\n",
    "fig, ax = plt.subplots(figsize=(10,6))\n",
    "for hi,h in enumerate(hs):\n",
    "    print(hi)\n",
    "    for thetai, theta in enumerate(thetas):\n",
    "        #print(thetai)\n",
    "        av[hi, thetai], zas[hi, thetai] = numAngularV(h/1000, 0, theta)\n",
    "    plt.plot(zas[hi,:], av[hi,:], '-o', label='Alt. %.0fkm'%(h/1000))\n",
    "plt.legend()\n",
    "plt.xlim([0, 90])\n",
    "plt.xlabel('Zenithal distance [deg]')\n",
    "plt.ylabel('Sat. angu. velocity [deg/min]')\n",
    "plt.grid()\n",
    "# This seems to match what we had before pretty well\n",
    "# https://github.com/bxin/scratchBook/blob/master/saturation_limit/satLim_exploreHeight.ipynb"
   ]
  },
  {
   "cell_type": "code",
   "execution_count": 10,
   "metadata": {},
   "outputs": [],
   "source": [
    "def maxZAngle2alpha_deg(heightKm, za):\n",
    "    '''\n",
    "    convert max zenith angle of a orbit to alpha, where alpha is the observatory angle defined as:\n",
    "        draw a line from center of earth to the observatory, the angle between this line and the satellite orbit plane\n",
    "    both angles are in degree.\n",
    "    '''\n",
    "    h = heightKm*1000\n",
    "    x = np.arcsin(Re*np.sin(np.radians(za))/(Re+h)) ## angle between line of sight and (Re+h)\n",
    "    return (np.degrees(x) - za)"
   ]
  },
  {
   "cell_type": "code",
   "execution_count": 11,
   "metadata": {},
   "outputs": [
    {
     "name": "stdout",
     "output_type": "stream",
     "text": [
      "0 -1.12079639000617\n",
      "1 -2.5540511434020523\n",
      "2 -5.127163549000244\n",
      "3 -5.127163549000244\n",
      "4 -5.904336191184498\n"
     ]
    },
    {
     "data": {
      "image/png": "[encoded data removed]",
      "text/plain": [
       "<Figure size 720x432 with 1 Axes>"
      ]
     },
     "metadata": {
      "needs_background": "light"
     },
     "output_type": "display_data"
    }
   ],
   "source": [
    "# this takes ~1 minute for each curve (each satellite trail) on my MBP\n",
    "npt = 361 #361\n",
    "av = np.zeros((5,npt))\n",
    "zas = np.zeros((5,npt))\n",
    "thetas = np.linspace(0,360,npt)\n",
    "alphas = np.zeros(5)\n",
    "for ii, i in enumerate(DF.keys()):\n",
    "    alphas[ii] = maxZAngle2alpha_deg(heightKm, DF[i]['zenith angle (deg)'])\n",
    "fig, ax = plt.subplots(figsize=(10,6))\n",
    "for alphai, alpha in enumerate(alphas):\n",
    "    print(alphai, alpha)\n",
    "    for thetai, theta in enumerate(thetas):\n",
    "        #print(thetai)\n",
    "        av[alphai, thetai], zas[alphai, thetai] = numAngularV(heightKm, alpha, theta)\n",
    "    plt.plot(zas[alphai,:], av[alphai,:], '-o', label=DF.keys()[alphai])\n",
    "plt.legend()\n",
    "plt.xlim([0, 90])\n",
    "plt.xlabel('Zenithal distance [deg]')\n",
    "plt.ylabel('Sat. angu. velocity [deg/min]')\n",
    "plt.grid()"
   ]
  },
  {
   "cell_type": "code",
   "execution_count": null,
   "metadata": {},
   "outputs": [],
   "source": []
  },
  {
   "cell_type": "code",
   "execution_count": null,
   "metadata": {},
   "outputs": [],
   "source": []
  },
  {
   "cell_type": "code",
   "execution_count": null,
   "metadata": {},
   "outputs": [],
   "source": []
  },
  {
   "cell_type": "code",
   "execution_count": null,
   "metadata": {},
   "outputs": [],
   "source": []
  },
  {
   "cell_type": "markdown",
   "metadata": {},
   "source": [
    "Seems to have found an issue in sympy"
   ]
  },
  {
   "cell_type": "code",
   "execution_count": 12,
   "metadata": {},
   "outputs": [
    {
     "data": {
      "text/latex": [
       "$\\displaystyle Point3D\\left(0, 7727, 6671000\\right)$"
      ],
      "text/plain": [
       "Point3D(0, 7727, 6671000)"
      ]
     },
     "execution_count": 12,
     "metadata": {},
     "output_type": "execute_result"
    }
   ],
   "source": [
    "pp = Plane(Point3D(0, 0, 6671000), (0, 0, 300000))\n",
    "pt = Point3D(0, 7727, 6671000)\n",
    "pp.projection(pt)"
   ]
  },
  {
   "cell_type": "code",
   "execution_count": 13,
   "metadata": {},
   "outputs": [
    {
     "ename": "IndexError",
     "evalue": "list index out of range",
     "output_type": "error",
     "traceback": [
      "\u001b[0;31m---------------------------------------------------------------------------\u001b[0m",
      "\u001b[0;31mIndexError\u001b[0m                                Traceback (most recent call last)",
      "\u001b[0;32m<ipython-input-13-ecaedd537a0c>\u001b[0m in \u001b[0;36m<module>\u001b[0;34m\u001b[0m\n\u001b[1;32m      1\u001b[0m \u001b[0mpp\u001b[0m \u001b[0;34m=\u001b[0m \u001b[0mPlane\u001b[0m\u001b[0;34m(\u001b[0m\u001b[0mPoint3D\u001b[0m\u001b[0;34m(\u001b[0m\u001b[0;36m0\u001b[0m\u001b[0;34m,\u001b[0m \u001b[0;36m0\u001b[0m\u001b[0;34m,\u001b[0m \u001b[0;36m6671000\u001b[0m\u001b[0;34m)\u001b[0m\u001b[0;34m,\u001b[0m \u001b[0;34m(\u001b[0m\u001b[0;36m0\u001b[0m\u001b[0;34m,\u001b[0m \u001b[0;36m1e-9\u001b[0m\u001b[0;34m,\u001b[0m \u001b[0;36m300000\u001b[0m\u001b[0;34m)\u001b[0m\u001b[0;34m)\u001b[0m\u001b[0;34m\u001b[0m\u001b[0;34m\u001b[0m\u001b[0m\n\u001b[1;32m      2\u001b[0m \u001b[0mpt\u001b[0m \u001b[0;34m=\u001b[0m \u001b[0mPoint3D\u001b[0m\u001b[0;34m(\u001b[0m\u001b[0;36m0\u001b[0m\u001b[0;34m,\u001b[0m \u001b[0;36m7727\u001b[0m\u001b[0;34m,\u001b[0m \u001b[0;36m6671000\u001b[0m\u001b[0;34m)\u001b[0m\u001b[0;34m\u001b[0m\u001b[0;34m\u001b[0m\u001b[0m\n\u001b[0;32m----> 3\u001b[0;31m \u001b[0mpp\u001b[0m\u001b[0;34m.\u001b[0m\u001b[0mprojection\u001b[0m\u001b[0;34m(\u001b[0m\u001b[0mpt\u001b[0m\u001b[0;34m)\u001b[0m\u001b[0;34m\u001b[0m\u001b[0;34m\u001b[0m\u001b[0m\n\u001b[0m",
      "\u001b[0;32m/Applications/miniconda3/envs/p3/lib/python3.7/site-packages/sympy/geometry/plane.py\u001b[0m in \u001b[0;36mprojection\u001b[0;34m(self, pt)\u001b[0m\n\u001b[1;32m    787\u001b[0m         \u001b[0;32mif\u001b[0m \u001b[0mrv\u001b[0m \u001b[0;32min\u001b[0m \u001b[0mself\u001b[0m\u001b[0;34m:\u001b[0m\u001b[0;34m\u001b[0m\u001b[0;34m\u001b[0m\u001b[0m\n\u001b[1;32m    788\u001b[0m             \u001b[0;32mreturn\u001b[0m \u001b[0mrv\u001b[0m\u001b[0;34m\u001b[0m\u001b[0;34m\u001b[0m\u001b[0m\n\u001b[0;32m--> 789\u001b[0;31m         \u001b[0;32mreturn\u001b[0m \u001b[0mself\u001b[0m\u001b[0;34m.\u001b[0m\u001b[0mintersection\u001b[0m\u001b[0;34m(\u001b[0m\u001b[0mLine3D\u001b[0m\u001b[0;34m(\u001b[0m\u001b[0mrv\u001b[0m\u001b[0;34m,\u001b[0m \u001b[0mrv\u001b[0m \u001b[0;34m+\u001b[0m \u001b[0mPoint3D\u001b[0m\u001b[0;34m(\u001b[0m\u001b[0mself\u001b[0m\u001b[0;34m.\u001b[0m\u001b[0mnormal_vector\u001b[0m\u001b[0;34m)\u001b[0m\u001b[0;34m)\u001b[0m\u001b[0;34m)\u001b[0m\u001b[0;34m[\u001b[0m\u001b[0;36m0\u001b[0m\u001b[0;34m]\u001b[0m\u001b[0;34m\u001b[0m\u001b[0;34m\u001b[0m\u001b[0m\n\u001b[0m\u001b[1;32m    790\u001b[0m \u001b[0;34m\u001b[0m\u001b[0m\n\u001b[1;32m    791\u001b[0m     \u001b[0;32mdef\u001b[0m \u001b[0mrandom_point\u001b[0m\u001b[0;34m(\u001b[0m\u001b[0mself\u001b[0m\u001b[0;34m,\u001b[0m \u001b[0mseed\u001b[0m\u001b[0;34m=\u001b[0m\u001b[0;32mNone\u001b[0m\u001b[0;34m)\u001b[0m\u001b[0;34m:\u001b[0m\u001b[0;34m\u001b[0m\u001b[0;34m\u001b[0m\u001b[0m\n",
      "\u001b[0;31mIndexError\u001b[0m: list index out of range"
     ]
    }
   ],
   "source": [
    "pp = Plane(Point3D(0, 0, 6671000), (0, 1e-9, 300000))\n",
    "pt = Point3D(0, 7727, 6671000)\n",
    "pp.projection(pt)"
   ]
  },
  {
   "cell_type": "code",
   "execution_count": null,
   "metadata": {},
   "outputs": [],
   "source": []
  }
 ],
 "metadata": {
  "kernelspec": {
   "display_name": "Python 3",
   "language": "python",
   "name": "python3"
  },
  "language_info": {
   "codemirror_mode": {
    "name": "ipython",
    "version": 3
   },
   "file_extension": ".py",
   "mimetype": "text/x-python",
   "name": "python",
   "nbconvert_exporter": "python",
   "pygments_lexer": "ipython3",
   "version": "3.7.4"
  }
 },
 "nbformat": 4,
 "nbformat_minor": 2
}

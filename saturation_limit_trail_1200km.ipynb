{
 "cells": [
  {
   "cell_type": "markdown",
   "metadata": {},
   "source": [
    "### This notebook estimates the maximum number of electrons per pixel the Starlink satellites would produce.\n",
    "* We assume a satellite is at 1200km height, and 40 degree off zenith. The angular velocity is about 0.5 deg/sec.\n",
    "* Because the satellites are at finite distances from the observatory, the FWHM of the trail is estimated as the following -\n",
    "\n",
    "    FWHM = $\\sqrt{\\frac{D_{sat}^2}{d^2} + \\frac{D_{pupil}^2}{d^2} + \\theta_{atm}^2}$, \n",
    "    \n",
    "    where $D_{sat} \\sim$ 2m is the size of the satellite,\n",
    "    $d$ = 1200km/cos(zenith angle) is the distance from the observatory to the satellite, and\n",
    "    $\\theta_{atm}$ = 0.7 arcsec is the LSST seeing."
   ]
  },
  {
   "cell_type": "code",
   "execution_count": 1,
   "metadata": {},
   "outputs": [],
   "source": [
    "from __future__ import print_function\n",
    "import numpy as np\n",
    "import pandas as pd\n",
    "import lsst.syseng.throughputs as st\n",
    "from lsst.sims.photUtils import PhotometricParameters, Sed\n",
    "import galsim\n",
    "import matplotlib.pyplot as plt\n",
    "import os\n",
    "from lsst.utils import getPackageDir \n",
    "from LEOSat import getSatSII"
   ]
  },
  {
   "cell_type": "code",
   "execution_count": 2,
   "metadata": {},
   "outputs": [],
   "source": [
    "angularV = 0.5*60 # in deg/min, 0.5 deg/sec, for 40 degree zenith angle, and satellite orbit going through zenith"
   ]
  },
  {
   "cell_type": "markdown",
   "metadata": {},
   "source": [
    "#### We use Eq (6) in LSE-40. With the baseline system as defined by syseng_throughput (including hardware & atmosphere), We can easily map a source magnitude to a source count. "
   ]
  },
  {
   "cell_type": "code",
   "execution_count": 3,
   "metadata": {},
   "outputs": [],
   "source": [
    "# full_well for a 30s visit, in e-\n",
    "full_well = 150e3  #typical for e2v sensors. ITL is typically 200k. We try to be conservative and use the smaller.\n",
    "full_well2 = 100e3  #some sensors can be as low as 100K e-.\n",
    "xtalk_limit = 10e3 "
   ]
  },
  {
   "cell_type": "markdown",
   "metadata": {},
   "source": [
    "#### We first determine what fraction of the flux will be in the center/brightest pixel"
   ]
  },
  {
   "cell_type": "code",
   "execution_count": 4,
   "metadata": {},
   "outputs": [],
   "source": [
    "#Assume it moves along pixel grid. The time its image center moves from one pixel center to the next is dt\n",
    "dt = 0.2/(angularV/60*3600) # in seconds"
   ]
  },
  {
   "cell_type": "code",
   "execution_count": 5,
   "metadata": {},
   "outputs": [],
   "source": [
    "#satellite parameters\n",
    "l1 = 2 #1.5 #meter\n",
    "l2 = 2 #meter\n",
    "h = 1200e3"
   ]
  },
  {
   "cell_type": "code",
   "execution_count": 6,
   "metadata": {},
   "outputs": [
    {
     "name": "stdout",
     "output_type": "stream",
     "text": [
      "donutR = 27 micron, satellite conv kernel = 13 x 13 microns\n",
      "padding =  5\n",
      "expected FWHM = 66 microns\n"
     ]
    }
   ],
   "source": [
    "f=10.3\n",
    "d=8.36\n",
    "pixel_size = 10 #micron\n",
    "plate_scale = 0.2\n",
    "e = 0.61\n",
    "seeing = 0.7\n",
    "zangle = 40\n",
    "\n",
    "#see doublePeak.ipynb\n",
    "[sii, fwhm_exp] = getSatSII(f,d,e, l1, l2, h, zangle, seeing, pixel_size, plate_scale)"
   ]
  },
  {
   "cell_type": "markdown",
   "metadata": {},
   "source": [
    "#### Approximate it as a source which appears at one pixel center for dt, then disappears from there, and instantly appears at the next pixel center for dt. During each dt, the source deposit a flux profile that is SII (satellite instantaneous image)\n",
    "So we are just overlapping SIIs whose centers are 0.2 arcsec apart. Considering that the FWHM is much larger than pixel size, the top of the SIIs are pretty flat. So this should be a pretty good approximation.\n",
    "This slightly overestimates the flux, because having the SIIs moving across the pixel in dt would yield a smaller flux for the pixel, compared to when the peak intensity of the SIIs is overlapped with the pixel center during dt."
   ]
  },
  {
   "cell_type": "code",
   "execution_count": 7,
   "metadata": {},
   "outputs": [
    {
     "name": "stdout",
     "output_type": "stream",
     "text": [
      "peak pixel flux/total flux = 0.1643\n"
     ]
    }
   ],
   "source": [
    "aa = np.sum(sii,axis=0)\n",
    "idx = np.argmax(aa==max(aa))\n",
    "ratio = sum(aa[idx-4:idx+6])\n",
    "print('peak pixel flux/total flux = %.4f'%ratio)"
   ]
  },
  {
   "cell_type": "markdown",
   "metadata": {},
   "source": [
    "### Baseline LSST system, as defined in syseng_throughput"
   ]
  },
  {
   "cell_type": "code",
   "execution_count": 8,
   "metadata": {},
   "outputs": [],
   "source": [
    "defaultDirs = st.setDefaultDirs()\n",
    "hardware, system = st.buildHardwareAndSystem(defaultDirs)"
   ]
  },
  {
   "cell_type": "markdown",
   "metadata": {},
   "source": [
    "### Default photometric parameters, as used in standard m5 calculations"
   ]
  },
  {
   "cell_type": "code",
   "execution_count": 9,
   "metadata": {},
   "outputs": [],
   "source": [
    "exptime=15 \n",
    "nexp=2\n",
    "readnoise=8.8 \n",
    "othernoise=0 \n",
    "darkcurrent=0.2\n",
    "effarea=np.pi*(6.423/2*100)**2\n",
    "X=1.0\n",
    "\n",
    "# PhotometricParameters object for standard m5 calculations.\n",
    "photParams_std = PhotometricParameters(exptime=exptime, nexp=nexp,\n",
    "                                           gain=1.0, effarea=effarea, readnoise=readnoise,\n",
    "                                           othernoise=othernoise, darkcurrent=darkcurrent)"
   ]
  },
  {
   "cell_type": "markdown",
   "metadata": {},
   "source": [
    "### Let's make sure we can reproduce standard m5 results"
   ]
  },
  {
   "cell_type": "code",
   "execution_count": 10,
   "metadata": {},
   "outputs": [],
   "source": [
    "m5 = st.makeM5(hardware, system, darksky=None, \n",
    "                      exptime=exptime, nexp=nexp, readnoise=readnoise, othernoise=othernoise, darkcurrent=darkcurrent,\n",
    "                      effarea=effarea, X=1.0)"
   ]
  },
  {
   "cell_type": "code",
   "execution_count": 11,
   "metadata": {},
   "outputs": [
    {
     "data": {
      "text/html": [
       "<div>\n",
       "<style scoped>\n",
       "    .dataframe tbody tr th:only-of-type {\n",
       "        vertical-align: middle;\n",
       "    }\n",
       "\n",
       "    .dataframe tbody tr th {\n",
       "        vertical-align: top;\n",
       "    }\n",
       "\n",
       "    .dataframe thead th {\n",
       "        text-align: right;\n",
       "    }\n",
       "</style>\n",
       "<table border=\"1\" class=\"dataframe\">\n",
       "  <thead>\n",
       "    <tr style=\"text-align: right;\">\n",
       "      <th></th>\n",
       "      <th>FWHMeff</th>\n",
       "      <th>FWHMgeom</th>\n",
       "      <th>skyMag</th>\n",
       "      <th>skyCounts</th>\n",
       "      <th>Zp_t</th>\n",
       "      <th>Tb</th>\n",
       "      <th>Sb</th>\n",
       "      <th>kAtm</th>\n",
       "      <th>gamma</th>\n",
       "      <th>Cm</th>\n",
       "      <th>dCm_infinity</th>\n",
       "      <th>dCm_double</th>\n",
       "      <th>m5</th>\n",
       "      <th>sourceCounts</th>\n",
       "      <th>m5_fid</th>\n",
       "      <th>m5_min</th>\n",
       "    </tr>\n",
       "  </thead>\n",
       "  <tbody>\n",
       "    <tr>\n",
       "      <th>u</th>\n",
       "      <td>0.92</td>\n",
       "      <td>0.80824</td>\n",
       "      <td>22.960730</td>\n",
       "      <td>80.840573</td>\n",
       "      <td>27.009181</td>\n",
       "      <td>0.035837</td>\n",
       "      <td>0.057997</td>\n",
       "      <td>0.522669</td>\n",
       "      <td>0.038185</td>\n",
       "      <td>23.165597</td>\n",
       "      <td>0.576230</td>\n",
       "      <td>0.362984</td>\n",
       "      <td>23.849238</td>\n",
       "      <td>550.932990</td>\n",
       "      <td>23.9</td>\n",
       "      <td>23.4</td>\n",
       "    </tr>\n",
       "    <tr>\n",
       "      <th>g</th>\n",
       "      <td>0.87</td>\n",
       "      <td>0.76714</td>\n",
       "      <td>22.257758</td>\n",
       "      <td>411.094794</td>\n",
       "      <td>28.399288</td>\n",
       "      <td>0.128938</td>\n",
       "      <td>0.154358</td>\n",
       "      <td>0.195371</td>\n",
       "      <td>0.038743</td>\n",
       "      <td>24.447490</td>\n",
       "      <td>0.176182</td>\n",
       "      <td>0.093056</td>\n",
       "      <td>24.840316</td>\n",
       "      <td>795.628429</td>\n",
       "      <td>25.0</td>\n",
       "      <td>24.6</td>\n",
       "    </tr>\n",
       "    <tr>\n",
       "      <th>r</th>\n",
       "      <td>0.83</td>\n",
       "      <td>0.73426</td>\n",
       "      <td>21.196590</td>\n",
       "      <td>818.797145</td>\n",
       "      <td>28.177407</td>\n",
       "      <td>0.105106</td>\n",
       "      <td>0.115690</td>\n",
       "      <td>0.104170</td>\n",
       "      <td>0.038990</td>\n",
       "      <td>24.467511</td>\n",
       "      <td>0.096081</td>\n",
       "      <td>0.047725</td>\n",
       "      <td>24.380855</td>\n",
       "      <td>990.243723</td>\n",
       "      <td>24.7</td>\n",
       "      <td>24.3</td>\n",
       "    </tr>\n",
       "    <tr>\n",
       "      <th>i</th>\n",
       "      <td>0.80</td>\n",
       "      <td>0.70960</td>\n",
       "      <td>20.477419</td>\n",
       "      <td>1173.487799</td>\n",
       "      <td>27.879556</td>\n",
       "      <td>0.079889</td>\n",
       "      <td>0.085493</td>\n",
       "      <td>0.073607</td>\n",
       "      <td>0.039101</td>\n",
       "      <td>24.363045</td>\n",
       "      <td>0.068928</td>\n",
       "      <td>0.033121</td>\n",
       "      <td>23.956774</td>\n",
       "      <td>1112.330543</td>\n",
       "      <td>24.0</td>\n",
       "      <td>23.6</td>\n",
       "    </tr>\n",
       "    <tr>\n",
       "      <th>z</th>\n",
       "      <td>0.78</td>\n",
       "      <td>0.69316</td>\n",
       "      <td>19.599578</td>\n",
       "      <td>1782.992383</td>\n",
       "      <td>27.481805</td>\n",
       "      <td>0.055384</td>\n",
       "      <td>0.057871</td>\n",
       "      <td>0.047694</td>\n",
       "      <td>0.039235</td>\n",
       "      <td>24.201828</td>\n",
       "      <td>0.046435</td>\n",
       "      <td>0.021447</td>\n",
       "      <td>23.384125</td>\n",
       "      <td>1306.751554</td>\n",
       "      <td>23.3</td>\n",
       "      <td>22.9</td>\n",
       "    </tr>\n",
       "    <tr>\n",
       "      <th>y</th>\n",
       "      <td>0.76</td>\n",
       "      <td>0.67672</td>\n",
       "      <td>18.610405</td>\n",
       "      <td>2371.023361</td>\n",
       "      <td>26.687500</td>\n",
       "      <td>0.026648</td>\n",
       "      <td>0.030944</td>\n",
       "      <td>0.162291</td>\n",
       "      <td>0.039311</td>\n",
       "      <td>23.759692</td>\n",
       "      <td>0.035324</td>\n",
       "      <td>0.015804</td>\n",
       "      <td>22.475605</td>\n",
       "      <td>1451.707778</td>\n",
       "      <td>22.1</td>\n",
       "      <td>21.7</td>\n",
       "    </tr>\n",
       "  </tbody>\n",
       "</table>\n",
       "</div>"
      ],
      "text/plain": [
       "   FWHMeff  FWHMgeom     skyMag    skyCounts       Zp_t        Tb        Sb  \\\n",
       "u     0.92   0.80824  22.960730    80.840573  27.009181  0.035837  0.057997   \n",
       "g     0.87   0.76714  22.257758   411.094794  28.399288  0.128938  0.154358   \n",
       "r     0.83   0.73426  21.196590   818.797145  28.177407  0.105106  0.115690   \n",
       "i     0.80   0.70960  20.477419  1173.487799  27.879556  0.079889  0.085493   \n",
       "z     0.78   0.69316  19.599578  1782.992383  27.481805  0.055384  0.057871   \n",
       "y     0.76   0.67672  18.610405  2371.023361  26.687500  0.026648  0.030944   \n",
       "\n",
       "       kAtm     gamma         Cm  dCm_infinity  dCm_double         m5  \\\n",
       "u  0.522669  0.038185  23.165597      0.576230    0.362984  23.849238   \n",
       "g  0.195371  0.038743  24.447490      0.176182    0.093056  24.840316   \n",
       "r  0.104170  0.038990  24.467511      0.096081    0.047725  24.380855   \n",
       "i  0.073607  0.039101  24.363045      0.068928    0.033121  23.956774   \n",
       "z  0.047694  0.039235  24.201828      0.046435    0.021447  23.384125   \n",
       "y  0.162291  0.039311  23.759692      0.035324    0.015804  22.475605   \n",
       "\n",
       "   sourceCounts  m5_fid  m5_min  \n",
       "u    550.932990    23.9    23.4  \n",
       "g    795.628429    25.0    24.6  \n",
       "r    990.243723    24.7    24.3  \n",
       "i   1112.330543    24.0    23.6  \n",
       "z   1306.751554    23.3    22.9  \n",
       "y   1451.707778    22.1    21.7  "
      ]
     },
     "execution_count": 11,
     "metadata": {},
     "output_type": "execute_result"
    }
   ],
   "source": [
    "m5"
   ]
  },
  {
   "cell_type": "markdown",
   "metadata": {},
   "source": [
    "Set up the dataframe"
   ]
  },
  {
   "cell_type": "code",
   "execution_count": 12,
   "metadata": {},
   "outputs": [],
   "source": [
    "filterlist = ('u', 'g', 'r', 'i', 'z', 'y')\n",
    "properties = ['SatLim']\n",
    "d = pd.DataFrame(index=filterlist, columns=properties, dtype='float')"
   ]
  },
  {
   "cell_type": "markdown",
   "metadata": {},
   "source": [
    "### Satellites have solar SED"
   ]
  },
  {
   "cell_type": "code",
   "execution_count": 13,
   "metadata": {},
   "outputs": [
    {
     "data": {
      "image/png": "[encoded data removed]",
      "text/plain": [
       "<Figure size 432x288 with 1 Axes>"
      ]
     },
     "metadata": {
      "needs_background": "light"
     },
     "output_type": "display_data"
    }
   ],
   "source": [
    "satellite = Sed()\n",
    "satellite.readSED_flambda(os.path.join(getPackageDir('sims_movingObjects'),\n",
    "                                             'data', 'kurucz_sun.gz'))\n",
    "satellite.flambdaTofnu()\n",
    "plt.plot(satellite.wavelen, satellite.fnu)\n",
    "plt.xlabel('Wavelength (nm)')\n",
    "plt.ylabel(r'Spectral energy ($F_\\nu(\\lambda)$)')\n",
    "plt.xlim([0, 5000])\n",
    "plt.grid()"
   ]
  },
  {
   "cell_type": "markdown",
   "metadata": {},
   "source": [
    "### Calculate the saturation limits under darksky: the source should have solar SED"
   ]
  },
  {
   "cell_type": "code",
   "execution_count": 14,
   "metadata": {},
   "outputs": [
    {
     "name": "stdout",
     "output_type": "stream",
     "text": [
      "r, adu = 2.073579e+07, adu_flat = 2.073579e+07, diff = -0.00\n",
      "i, adu = 1.576086e+07, adu_flat = 1.576086e+07, diff = 0.00\n",
      "u, adu = 7.070173e+06, adu_flat = 7.070173e+06, diff = -0.00\n",
      "z, adu = 1.092646e+07, adu_flat = 1.092646e+07, diff = -0.00\n",
      "g, adu = 2.543741e+07, adu_flat = 2.543741e+07, diff = 0.00\n",
      "y, adu = 5.257237e+06, adu_flat = 5.257237e+06, diff = -0.00\n"
     ]
    }
   ],
   "source": [
    "# change exposure to dt\n",
    "photParams_dt = PhotometricParameters(exptime=dt, nexp=1,\n",
    "                                           gain=1.0, effarea=effarea, readnoise=readnoise,\n",
    "                                           othernoise=othernoise, darkcurrent=darkcurrent)\n",
    "key = 'SatLim'\n",
    "for f in system:\n",
    "    satellite = Sed()\n",
    "    satellite.readSED_flambda(os.path.join(getPackageDir('sims_movingObjects'),\n",
    "                                             'data', 'kurucz_sun.gz'))\n",
    "    fNorm = satellite.calcFluxNorm(0, system[f])\n",
    "    # print('fNorm = %.2e'%fNorm)\n",
    "    satellite.multiplyFluxNorm(fNorm)\n",
    "    adu = satellite.calcADU(system[f], photParams=photParams_dt)\n",
    "    #print(satellite.calcMag(system[f]))\n",
    "    \n",
    "    flatsource = Sed()\n",
    "    flatsource.setFlatSED()\n",
    "    adu_flat = flatsource.calcADU(system[f], photParams=photParams_dt)\n",
    "    print('%s, adu = %e, adu_flat = %e, diff = %.2f'%(f, adu, adu_flat, adu-adu_flat))\n",
    "    #So the ADU is the same as using the flat SED. Does that make sense?\n",
    "    #yes, according to Lynne. Because the AB magnitude, and the flux, both include the effect of the bandpass (throughput)\n",
    "    #therefore are specific for each observatory. That is why calcFluxNorm() has system[f] as input.\n",
    "    #The mapping from mag to flux inside a particular bandpass is unique, and have nothing to do with SED\n",
    "    \n",
    "    adu0 = adu*ratio\n",
    "    #because we assumed a m=0 star\n",
    "    # we use gain=1.0, so adu = number of e-\n",
    "    # we also get rid of skycounts from each pixel. This has miminal effect on results\n",
    "    d[key].loc[f] = np.log10(adu0/(full_well-m5.skyCounts.loc[f]))/2*5"
   ]
  },
  {
   "cell_type": "markdown",
   "metadata": {},
   "source": [
    "#### Double-check: do the same calculation using zero points"
   ]
  },
  {
   "cell_type": "code",
   "execution_count": 15,
   "metadata": {},
   "outputs": [],
   "source": [
    "d_zp = pd.DataFrame(index=filterlist, columns=properties, dtype='float')\n",
    "key = 'SatLim'\n",
    "for f in system:\n",
    "    #number of electrons we can accomodate for the source in dt sec\n",
    "    ne = (full_well-m5.skyCounts[f])/ratio\n",
    "    #number of electrons we can accomodate for this source in 1 sec\n",
    "    ne = ne/dt\n",
    "    d_zp[key].loc[f] = (m5.Zp_t[f]-2.5*np.log10(ne))"
   ]
  },
  {
   "cell_type": "code",
   "execution_count": 16,
   "metadata": {},
   "outputs": [
    {
     "data": {
      "text/html": [
       "<div>\n",
       "<style scoped>\n",
       "    .dataframe tbody tr th:only-of-type {\n",
       "        vertical-align: middle;\n",
       "    }\n",
       "\n",
       "    .dataframe tbody tr th {\n",
       "        vertical-align: top;\n",
       "    }\n",
       "\n",
       "    .dataframe thead th {\n",
       "        text-align: right;\n",
       "    }\n",
       "</style>\n",
       "<table border=\"1\" class=\"dataframe\">\n",
       "  <thead>\n",
       "    <tr style=\"text-align: right;\">\n",
       "      <th></th>\n",
       "      <th>SatLim</th>\n",
       "    </tr>\n",
       "  </thead>\n",
       "  <tbody>\n",
       "    <tr>\n",
       "      <th>u</th>\n",
       "      <td>2.223337</td>\n",
       "    </tr>\n",
       "    <tr>\n",
       "      <th>g</th>\n",
       "      <td>3.615839</td>\n",
       "    </tr>\n",
       "    <tr>\n",
       "      <th>r</th>\n",
       "      <td>3.396921</td>\n",
       "    </tr>\n",
       "    <tr>\n",
       "      <th>i</th>\n",
       "      <td>3.101654</td>\n",
       "    </tr>\n",
       "    <tr>\n",
       "      <th>z</th>\n",
       "      <td>2.708359</td>\n",
       "    </tr>\n",
       "    <tr>\n",
       "      <th>y</th>\n",
       "      <td>1.918370</td>\n",
       "    </tr>\n",
       "  </tbody>\n",
       "</table>\n",
       "</div>"
      ],
      "text/plain": [
       "     SatLim\n",
       "u  2.223337\n",
       "g  3.615839\n",
       "r  3.396921\n",
       "i  3.101654\n",
       "z  2.708359\n",
       "y  1.918370"
      ]
     },
     "execution_count": 16,
     "metadata": {},
     "output_type": "execute_result"
    }
   ],
   "source": [
    "d_zp"
   ]
  },
  {
   "cell_type": "code",
   "execution_count": 17,
   "metadata": {},
   "outputs": [
    {
     "data": {
      "text/html": [
       "<div>\n",
       "<style scoped>\n",
       "    .dataframe tbody tr th:only-of-type {\n",
       "        vertical-align: middle;\n",
       "    }\n",
       "\n",
       "    .dataframe tbody tr th {\n",
       "        vertical-align: top;\n",
       "    }\n",
       "\n",
       "    .dataframe thead th {\n",
       "        text-align: right;\n",
       "    }\n",
       "</style>\n",
       "<table border=\"1\" class=\"dataframe\">\n",
       "  <thead>\n",
       "    <tr style=\"text-align: right;\">\n",
       "      <th></th>\n",
       "      <th>SatLim</th>\n",
       "    </tr>\n",
       "  </thead>\n",
       "  <tbody>\n",
       "    <tr>\n",
       "      <th>u</th>\n",
       "      <td>0.0</td>\n",
       "    </tr>\n",
       "    <tr>\n",
       "      <th>g</th>\n",
       "      <td>-0.0</td>\n",
       "    </tr>\n",
       "    <tr>\n",
       "      <th>r</th>\n",
       "      <td>0.0</td>\n",
       "    </tr>\n",
       "    <tr>\n",
       "      <th>i</th>\n",
       "      <td>-0.0</td>\n",
       "    </tr>\n",
       "    <tr>\n",
       "      <th>z</th>\n",
       "      <td>0.0</td>\n",
       "    </tr>\n",
       "    <tr>\n",
       "      <th>y</th>\n",
       "      <td>0.0</td>\n",
       "    </tr>\n",
       "  </tbody>\n",
       "</table>\n",
       "</div>"
      ],
      "text/plain": [
       "   SatLim\n",
       "u     0.0\n",
       "g    -0.0\n",
       "r     0.0\n",
       "i    -0.0\n",
       "z     0.0\n",
       "y     0.0"
      ]
     },
     "execution_count": 17,
     "metadata": {},
     "output_type": "execute_result"
    }
   ],
   "source": [
    "round(d_zp - d)  #should be idential to above calculations"
   ]
  },
  {
   "cell_type": "markdown",
   "metadata": {},
   "source": [
    "### Make peak electron counts vs. mag plot"
   ]
  },
  {
   "cell_type": "code",
   "execution_count": 18,
   "metadata": {},
   "outputs": [],
   "source": [
    "pRatio = ratio\n",
    "colors = ['blue', 'green', 'red', '0.75', '0.50', '0.25']\n",
    "d_plot = pd.DataFrame(index=filterlist, columns=['SatLimFromPlot'], dtype='float')"
   ]
  },
  {
   "cell_type": "code",
   "execution_count": 24,
   "metadata": {},
   "outputs": [
    {
     "data": {
      "image/png": "[encoded data removed]",
      "text/plain": [
       "<Figure size 432x288 with 1 Axes>"
      ]
     },
     "metadata": {
      "needs_background": "light"
     },
     "output_type": "display_data"
    }
   ],
   "source": [
    "magLow = 1\n",
    "fig, ax = plt.subplots()\n",
    "for i,f in enumerate(filterlist):\n",
    "    mags = []\n",
    "    npeaks = []\n",
    "    flatsource = Sed()\n",
    "    flatsource.setFlatSED(wavelen_min=system[f].wavelen_min, wavelen_max=system[f].wavelen_max,\n",
    "                              wavelen_step=system[f].wavelen_step)\n",
    "    adu = flatsource.calcADU(system[f], photParams=photParams_dt)\n",
    "    adu0 = adu*pRatio #a m=0 start produces this adu0 in the center pixel\n",
    "    for m in range(31):\n",
    "        mag = magLow+1 + 0.2 * m\n",
    "        mags.append(mag)\n",
    "        npeak = adu0*10**(-mag/2.5)+m5.skyCounts[f]\n",
    "        npeaks.append(npeak)\n",
    "    plt.scatter(mags, npeaks, label=f, color=colors[i])\n",
    "    #print(npeak)\n",
    "    #break\n",
    "    d_plot.SatLimFromPlot.loc[f] = mags[np.argmax(np.array(npeaks)<full_well)]\n",
    "#plt.plot([magLow, magLow+7.0],[xtalk_limit, xtalk_limit], ls = '--', lw = 2, color='black')\n",
    "plt.text(magLow+0.5, xtalk_limit*0.3, \"Range of correctable crosstalk\", color = 'black')\n",
    "#plt.text(0.5, xtalk_limit*0.3, \"crosstalk = %d e-\"%xtalk_limit, color = 'black')\n",
    "plt.plot([magLow+0,magLow+7.0],[full_well2, full_well2], ls = '--', lw = 2, color='black')\n",
    "plt.text(magLow+3.4, full_well2*1.20, \"Saturation = %d e-\"%full_well2, color = 'black')\n",
    "plt.text(0.13, 0.45, \"Trail FWHM = %.2f arcsec\"%(fwhm_exp/pixel_size*plate_scale), color = 'black', transform=fig.transFigure)\n",
    "plt.text(0.13, 0.5, \"Dark Sky, 1200km\", color = 'black', transform=fig.transFigure)\n",
    "plt.legend(loc='upper right')\n",
    "plt.fill_between([magLow+0,magLow+7.0], [xtalk_limit, xtalk_limit], facecolor='grey', alpha=0.15)\n",
    "plt.fill_between([magLow+0,magLow+7.0], [2e4, 2e4], facecolor='grey', alpha=0.2)\n",
    "plt.yscale('log')\n",
    "plt.xlim(magLow+0,magLow+7.0)\n",
    "plt.ylim(1e3, 1.5e6)\n",
    "#plt.grid()\n",
    "plt.xlabel('Satellite apparent magnitude', fontsize=12)\n",
    "plt.ylabel('Peak pixel count(electrons)', fontsize=12);\n",
    "plt.savefig('Peak_count_by_band_1200km_darkSky.pdf')"
   ]
  },
  {
   "cell_type": "code",
   "execution_count": 20,
   "metadata": {},
   "outputs": [
    {
     "data": {
      "text/html": [
       "<div>\n",
       "<style scoped>\n",
       "    .dataframe tbody tr th:only-of-type {\n",
       "        vertical-align: middle;\n",
       "    }\n",
       "\n",
       "    .dataframe tbody tr th {\n",
       "        vertical-align: top;\n",
       "    }\n",
       "\n",
       "    .dataframe thead th {\n",
       "        text-align: right;\n",
       "    }\n",
       "</style>\n",
       "<table border=\"1\" class=\"dataframe\">\n",
       "  <thead>\n",
       "    <tr style=\"text-align: right;\">\n",
       "      <th></th>\n",
       "      <th>SatLimFromPlot</th>\n",
       "      <th>SatLim</th>\n",
       "    </tr>\n",
       "  </thead>\n",
       "  <tbody>\n",
       "    <tr>\n",
       "      <th>u</th>\n",
       "      <td>2.4</td>\n",
       "      <td>2.223495</td>\n",
       "    </tr>\n",
       "    <tr>\n",
       "      <th>g</th>\n",
       "      <td>3.8</td>\n",
       "      <td>3.615996</td>\n",
       "    </tr>\n",
       "    <tr>\n",
       "      <th>r</th>\n",
       "      <td>3.4</td>\n",
       "      <td>3.397078</td>\n",
       "    </tr>\n",
       "    <tr>\n",
       "      <th>i</th>\n",
       "      <td>3.2</td>\n",
       "      <td>3.101811</td>\n",
       "    </tr>\n",
       "    <tr>\n",
       "      <th>z</th>\n",
       "      <td>2.8</td>\n",
       "      <td>2.708516</td>\n",
       "    </tr>\n",
       "    <tr>\n",
       "      <th>y</th>\n",
       "      <td>2.0</td>\n",
       "      <td>1.918527</td>\n",
       "    </tr>\n",
       "  </tbody>\n",
       "</table>\n",
       "</div>"
      ],
      "text/plain": [
       "   SatLimFromPlot    SatLim\n",
       "u             2.4  2.223495\n",
       "g             3.8  3.615996\n",
       "r             3.4  3.397078\n",
       "i             3.2  3.101811\n",
       "z             2.8  2.708516\n",
       "y             2.0  1.918527"
      ]
     },
     "execution_count": 20,
     "metadata": {},
     "output_type": "execute_result"
    }
   ],
   "source": [
    "#check consistency with above calculations.\n",
    "d_plot.join(d)"
   ]
  },
  {
   "cell_type": "markdown",
   "metadata": {},
   "source": [
    "#### Now do the same thing for bright sky. We will only do the calculations using zero points below."
   ]
  },
  {
   "cell_type": "code",
   "execution_count": 21,
   "metadata": {},
   "outputs": [],
   "source": [
    "#values from DECam. These are ~50 deg from full moon. See http://www.ctio.noao.edu/noao/node/5826\n",
    "skyBrightMag = {'u': 17.7, 'g':19.4, 'r':19.7, 'i':19.4, 'z':18.2, 'y':17.7}"
   ]
  },
  {
   "cell_type": "markdown",
   "metadata": {},
   "source": [
    "#### We will add additional 0.4 mag to the sky background, due to solar cycle\n",
    "\n",
    "Even the \n",
    "11 yr solar cycle gives 0.5 mag change in v band.  For our immediate \n",
    "SpaceX purpose it would be appropriate to generate only two plots, one \n",
    "for bright time and one for dark time.  In the mid 2020s we enter solar \n",
    "max, so add 0.4 mag in v band to sky."
   ]
  },
  {
   "cell_type": "code",
   "execution_count": 22,
   "metadata": {},
   "outputs": [
    {
     "name": "stdout",
     "output_type": "stream",
     "text": [
      "u 14856.66923227248\n",
      "y 7926.79830507322\n",
      "g 8261.238714700821\n",
      "r 4696.910335856309\n",
      "z 9353.643864016844\n",
      "i 4575.579983868398\n"
     ]
    }
   ],
   "source": [
    "skyCounts = {}\n",
    "for f in system:\n",
    "    skyCount = 10**((0.4+m5.skyMag[f]-skyBrightMag[f])/2.5)*m5.skyCounts[f] # we can actually simply calculate sky count this way.\n",
    "    skyCounts[f]=skyCount\n",
    "    print(f, skyCount)"
   ]
  },
  {
   "cell_type": "code",
   "execution_count": 23,
   "metadata": {},
   "outputs": [],
   "source": [
    "#use zero points to calculate saturation magnitudes under bright sky\n",
    "d_zp_bright = pd.DataFrame(index=filterlist, columns=properties, dtype='float')\n",
    "for f in system:\n",
    "    key = 'SatLim'\n",
    "    #number of electrons we can accomodate for the source in dt sec\n",
    "    ne = (full_well-skyCounts[f])/ratio\n",
    "    #number of electrons we can accomodate for this source in 1 sec\n",
    "    ne = ne/(dt)\n",
    "    d_zp_bright[key].loc[f] = (m5.Zp_t[f]-2.5*np.log10(ne))"
   ]
  },
  {
   "cell_type": "code",
   "execution_count": 24,
   "metadata": {},
   "outputs": [
    {
     "data": {
      "text/html": [
       "<div>\n",
       "<style scoped>\n",
       "    .dataframe tbody tr th:only-of-type {\n",
       "        vertical-align: middle;\n",
       "    }\n",
       "\n",
       "    .dataframe tbody tr th {\n",
       "        vertical-align: top;\n",
       "    }\n",
       "\n",
       "    .dataframe thead th {\n",
       "        text-align: right;\n",
       "    }\n",
       "</style>\n",
       "<table border=\"1\" class=\"dataframe\">\n",
       "  <thead>\n",
       "    <tr style=\"text-align: right;\">\n",
       "      <th></th>\n",
       "      <th>SatLim</th>\n",
       "    </tr>\n",
       "  </thead>\n",
       "  <tbody>\n",
       "    <tr>\n",
       "      <th>u</th>\n",
       "      <td>0.112656</td>\n",
       "    </tr>\n",
       "    <tr>\n",
       "      <th>g</th>\n",
       "      <td>0.058527</td>\n",
       "    </tr>\n",
       "    <tr>\n",
       "      <th>r</th>\n",
       "      <td>0.028598</td>\n",
       "    </tr>\n",
       "    <tr>\n",
       "      <th>i</th>\n",
       "      <td>0.025107</td>\n",
       "    </tr>\n",
       "    <tr>\n",
       "      <th>z</th>\n",
       "      <td>0.056924</td>\n",
       "    </tr>\n",
       "    <tr>\n",
       "      <th>y</th>\n",
       "      <td>0.041649</td>\n",
       "    </tr>\n",
       "  </tbody>\n",
       "</table>\n",
       "</div>"
      ],
      "text/plain": [
       "     SatLim\n",
       "u  0.112656\n",
       "g  0.058527\n",
       "r  0.028598\n",
       "i  0.025107\n",
       "z  0.056924\n",
       "y  0.041649"
      ]
     },
     "execution_count": 24,
     "metadata": {},
     "output_type": "execute_result"
    }
   ],
   "source": [
    "d_zp_bright - d_zp"
   ]
  },
  {
   "cell_type": "code",
   "execution_count": 25,
   "metadata": {},
   "outputs": [
    {
     "name": "stdout",
     "output_type": "stream",
     "text": [
      "for 5th mag, under bright sky, band u, peak e per pixel = 26478\n",
      "for 5th mag, under bright sky, band g, peak e per pixel = 50073\n",
      "for 5th mag, under bright sky, band r, peak e per pixel = 38781\n",
      "for 5th mag, under bright sky, band i, peak e per pixel = 30482\n",
      "for 5th mag, under bright sky, band z, peak e per pixel = 27314\n",
      "for 5th mag, under bright sky, band y, peak e per pixel = 16568\n"
     ]
    },
    {
     "data": {
      "image/png": "[encoded data removed]",
      "text/plain": [
       "<Figure size 432x288 with 1 Axes>"
      ]
     },
     "metadata": {
      "needs_background": "light"
     },
     "output_type": "display_data"
    }
   ],
   "source": [
    "d_plot_zp_bright = pd.DataFrame(index=filterlist, columns=['SatLimFromPlot'], dtype='float') # b for bright sky\n",
    "fig, ax = plt.subplots()\n",
    "peak_e_mag_5 = []\n",
    "for i,f in enumerate(filterlist):\n",
    "    mags = []\n",
    "    npeaks = []\n",
    "    for m in range(31):\n",
    "        mag = magLow+1.0 + 0.2 * m\n",
    "        mags.append(mag)\n",
    "        #for a source of mag, how many electrons is produced on detector in a second?\n",
    "        ne = 10**((m5.Zp_t[f] - mag)/2.5)\n",
    "        # what about dt seconds\n",
    "        ne *= dt\n",
    "        # how many fall into the center pixel? on top of the background and others\n",
    "        npeak = ne*pRatio+ skyCounts[f]\n",
    "        npeaks.append(npeak)\n",
    "        d_plot_zp_bright.SatLimFromPlot.loc[f] = mags[np.argmax(np.array(npeaks)<full_well)]\n",
    "        if mag==5.0:\n",
    "            peak_e_mag_5.append(npeak)\n",
    "            print('for 5th mag, under bright sky, band %s, peak e per pixel = %.0f'%(f,npeak))\n",
    "    plt.scatter(mags, npeaks, label=f, color=colors[i])\n",
    "    #print(npeak)\n",
    "    #break\n",
    "#plt.plot([magLow, magLow+7.0],[xtalk_limit, xtalk_limit], ls = '--', lw = 2, color='black')\n",
    "plt.text(magLow+0.5, xtalk_limit*0.3, \"Range of correctable crosstalk\", color = 'black')\n",
    "#plt.text(0.5, xtalk_limit*0.3, \"crosstalk = %d e-\"%xtalk_limit, color = 'black')\n",
    "plt.plot([magLow+0,magLow+7.0],[full_well2, full_well2], ls = '--', lw = 2, color='black')\n",
    "plt.text(magLow+3.4, full_well2*1.20, \"Saturation = %d e-\"%full_well2, color = 'black')\n",
    "plt.text(0.13, 0.43, \"Trail FWHM = %.2f arcsec\"%(fwhm_exp/pixel_size*plate_scale), color = 'black', transform=fig.transFigure)\n",
    "plt.text(0.13, 0.5, \"Bright Sky, 1200km\", color = 'black', transform=fig.transFigure)\n",
    "plt.legend(loc='upper right')\n",
    "plt.fill_between([magLow+0,magLow+7.0], [xtalk_limit, xtalk_limit], facecolor='grey', alpha=0.2)\n",
    "plt.yscale('log')\n",
    "plt.xlim(magLow+0,magLow+7.0)\n",
    "plt.ylim(1e3, 1.5e6)\n",
    "#plt.grid()\n",
    "plt.xlabel('Satellite apparent magnitude', fontsize=12)\n",
    "plt.ylabel('Peak pixel count(electrons)', fontsize=12);\n",
    "plt.savefig('Peak_count_by_band_1200km_brightSky.pdf')"
   ]
  },
  {
   "cell_type": "markdown",
   "metadata": {},
   "source": [
    "### what is the surface brightness of the satellite trail?\n",
    "The instantaneous surface brightness of the satellite is simply the surface brightness if the satellite is stationary relative to our detector.\n",
    "So here the \"surface brightness of the satellite trail\" is actually the surface brightness averaged over a period of time. Therefore this surface brightness is dependent on the averaging time. We assume a 30s exposure, or 2x15s exposures."
   ]
  },
  {
   "cell_type": "code",
   "execution_count": 26,
   "metadata": {},
   "outputs": [
    {
     "name": "stdout",
     "output_type": "stream",
     "text": [
      "12.043997008408558\n"
     ]
    }
   ],
   "source": [
    "fNormTrail = dt/(nexp*exptime)*ratio/photParams_std.platescale**2\n",
    "dmag = -2.5*np.log10(fNormTrail)\n",
    "print(dmag)"
   ]
  },
  {
   "cell_type": "code",
   "execution_count": 27,
   "metadata": {},
   "outputs": [
    {
     "name": "stdout",
     "output_type": "stream",
     "text": [
      "u, 12.04\n",
      "g, 12.04\n",
      "r, 12.04\n",
      "i, 12.04\n",
      "z, 12.04\n",
      "y, 12.04\n"
     ]
    }
   ],
   "source": [
    "m = 5  #just pick a random mag; won't affect the mag difference below.\n",
    "for i,f in enumerate(filterlist):\n",
    "    satellite = Sed()\n",
    "    satellite.readSED_flambda(os.path.join(getPackageDir('sims_movingObjects'),\n",
    "                                         'data', 'kurucz_sun.gz'))\n",
    "    fNorm = satellite.calcFluxNorm(m, system[f])\n",
    "    satellite.multiplyFluxNorm(fNorm) #normalize the passband to mag=m\n",
    "    satellite.multiplyFluxNorm(fNormTrail) #further dilute the light by a factor of fNormTrail\n",
    "    mTrail = satellite.calcMag(system[f])\n",
    "    print('%s, %.2f'%(f, mTrail-m))"
   ]
  }
 ],
 "metadata": {
  "kernelspec": {
   "display_name": "LSST",
   "language": "python",
   "name": "lsst"
  },
  "language_info": {
   "codemirror_mode": {
    "name": "ipython",
    "version": 3
   },
   "file_extension": ".py",
   "mimetype": "text/x-python",
   "name": "python",
   "nbconvert_exporter": "python",
   "pygments_lexer": "ipython3",
   "version": "3.7.6"
  }
 },
 "nbformat": 4,
 "nbformat_minor": 4
}
